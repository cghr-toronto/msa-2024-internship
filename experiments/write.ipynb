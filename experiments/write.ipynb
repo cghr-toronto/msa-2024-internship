{
 "cells": [
  {
   "cell_type": "markdown",
   "metadata": {},
   "source": [
    "# Writing spatial data files\n",
    "\n",
    "* Dante Christopher-Alphonso <dantealphonso@gmail.com>"
   ]
  },
  {
   "cell_type": "markdown",
   "metadata": {},
   "source": [
    "## Libraries"
   ]
  },
  {
   "cell_type": "code",
   "execution_count": 2,
   "metadata": {},
   "outputs": [
    {
     "name": "stderr",
     "output_type": "stream",
     "text": [
      "C:\\Users\\dante\\AppData\\Local\\Temp\\ipykernel_89908\\2412219844.py:2: DeprecationWarning: \n",
      "Pyarrow will become a required dependency of pandas in the next major release of pandas (pandas 3.0),\n",
      "(to allow more performant data types, such as the Arrow string type, and better interoperability with other libraries)\n",
      "but was not found to be installed on your system.\n",
      "If this would cause problems for you,\n",
      "please provide us feedback at https://github.com/pandas-dev/pandas/issues/54466\n",
      "        \n",
      "  import pandas as pd\n"
     ]
    }
   ],
   "source": [
    "# Importing the pandas and geopandas packages so that data and spatial data can be handled\n",
    "import pandas as pd\n",
    "import geopandas as gpd"
   ]
  },
  {
   "cell_type": "markdown",
   "metadata": {},
   "source": [
    "## Data"
   ]
  },
  {
   "cell_type": "code",
   "execution_count": 3,
   "metadata": {},
   "outputs": [],
   "source": [
    "# Reading in the Former Municipality Boundaries Data GeoJson file\n",
    "fmbd = gpd.read_file('data/Former Municipality Boundaries Data.geojson')\n",
    "\n",
    "# Reading in the Community Shelters shapefile\n",
    "shelters = gpd.read_file(\"data/Shelter/shelters_wgs84.shp\")\n",
    "\n",
    "# Reading in the Waste Transfer Station shapefile\n",
    "waste = gpd.read_file(\"data/Waste/SW_transfer_station_wgs84.shp\")\n",
    "\n",
    "# Reading in the City Wards Data GeoJson file\n",
    "cwd = gpd.read_file(\"data/City Wards Data.geojson\")"
   ]
  },
  {
   "cell_type": "markdown",
   "metadata": {},
   "source": [
    "## GeoJson file to a shapefile"
   ]
  },
  {
   "cell_type": "code",
   "execution_count": 4,
   "metadata": {},
   "outputs": [
    {
     "name": "stderr",
     "output_type": "stream",
     "text": [
      "C:\\Users\\dante\\AppData\\Local\\Temp\\ipykernel_89908\\967226255.py:2: UserWarning: Column names longer than 10 characters will be truncated when saved to ESRI Shapefile.\n",
      "  fmbd.to_file(\"data/fmbd/fmbd.shp\")\n"
     ]
    }
   ],
   "source": [
    "# This block of code writes the Former Municipality Boundaries Data geojson file into a shapefile\n",
    "fmbd.to_file(\"data/fmbd/fmbd.shp\")"
   ]
  },
  {
   "cell_type": "markdown",
   "metadata": {},
   "source": [
    "## Shapefiles into GeoJson files"
   ]
  },
  {
   "cell_type": "markdown",
   "metadata": {},
   "source": [
    "### Shelters shp to geojson"
   ]
  },
  {
   "cell_type": "code",
   "execution_count": 5,
   "metadata": {},
   "outputs": [],
   "source": [
    "# This block of code writes the shelters shapefile into a geojson file\n",
    "shelters.to_file(\"data/shelters.geojson\", driver='GeoJSON')"
   ]
  },
  {
   "cell_type": "markdown",
   "metadata": {},
   "source": [
    "### Waste shp to geojson"
   ]
  },
  {
   "cell_type": "code",
   "execution_count": 6,
   "metadata": {},
   "outputs": [],
   "source": [
    "# This block of code writes the waste locations shapefile into a geojson file\n",
    "waste.to_file(\"data/waste.geojson\", driver='GeoJSON')"
   ]
  },
  {
   "cell_type": "markdown",
   "metadata": {},
   "source": [
    "## GeoJson into a csv file"
   ]
  },
  {
   "cell_type": "code",
   "execution_count": 7,
   "metadata": {},
   "outputs": [
    {
     "data": {
      "text/html": [
       "<div>\n",
       "<style scoped>\n",
       "    .dataframe tbody tr th:only-of-type {\n",
       "        vertical-align: middle;\n",
       "    }\n",
       "\n",
       "    .dataframe tbody tr th {\n",
       "        vertical-align: top;\n",
       "    }\n",
       "\n",
       "    .dataframe thead th {\n",
       "        text-align: right;\n",
       "    }\n",
       "</style>\n",
       "<table border=\"1\" class=\"dataframe\">\n",
       "  <thead>\n",
       "    <tr style=\"text-align: right;\">\n",
       "      <th></th>\n",
       "      <th>Unnamed: 0</th>\n",
       "      <th>_id</th>\n",
       "      <th>AREA_ID</th>\n",
       "      <th>DATE_EFFECTIVE</th>\n",
       "      <th>DATE_EXPIRY</th>\n",
       "      <th>AREA_ATTR_ID</th>\n",
       "      <th>AREA_TYPE_ID</th>\n",
       "      <th>PARENT_AREA_ID</th>\n",
       "      <th>AREA_TYPE</th>\n",
       "      <th>AREA_CLASS_ID</th>\n",
       "      <th>...</th>\n",
       "      <th>AREA_SHORT_CODE</th>\n",
       "      <th>AREA_LONG_CODE</th>\n",
       "      <th>AREA_NAME</th>\n",
       "      <th>AREA_DESC</th>\n",
       "      <th>FEATURE_CODE</th>\n",
       "      <th>FEATURE_CODE_DESC</th>\n",
       "      <th>TRANS_ID_CREATE</th>\n",
       "      <th>TRANS_ID_EXPIRE</th>\n",
       "      <th>OBJECTID</th>\n",
       "      <th>geometry</th>\n",
       "    </tr>\n",
       "  </thead>\n",
       "  <tbody>\n",
       "    <tr>\n",
       "      <th>0</th>\n",
       "      <td>0</td>\n",
       "      <td>1</td>\n",
       "      <td>2457740.0</td>\n",
       "      <td>NaN</td>\n",
       "      <td>NaN</td>\n",
       "      <td>25993196.0</td>\n",
       "      <td>528.0</td>\n",
       "      <td>0.0</td>\n",
       "      <td>CITW</td>\n",
       "      <td>0.0</td>\n",
       "      <td>...</td>\n",
       "      <td>7</td>\n",
       "      <td>7</td>\n",
       "      <td>Humber River-Black Creek</td>\n",
       "      <td>Humber River-Black Creek (7)</td>\n",
       "      <td>0</td>\n",
       "      <td>NaN</td>\n",
       "      <td>279754.0</td>\n",
       "      <td>-1.0</td>\n",
       "      <td>17344785</td>\n",
       "      <td>MULTIPOLYGON (((-79.4910534106931 43.763502152...</td>\n",
       "    </tr>\n",
       "    <tr>\n",
       "      <th>1</th>\n",
       "      <td>1</td>\n",
       "      <td>2</td>\n",
       "      <td>2457739.0</td>\n",
       "      <td>NaN</td>\n",
       "      <td>NaN</td>\n",
       "      <td>25993195.0</td>\n",
       "      <td>528.0</td>\n",
       "      <td>0.0</td>\n",
       "      <td>CITW</td>\n",
       "      <td>0.0</td>\n",
       "      <td>...</td>\n",
       "      <td>6</td>\n",
       "      <td>6</td>\n",
       "      <td>York Centre</td>\n",
       "      <td>York Centre (6)</td>\n",
       "      <td>0</td>\n",
       "      <td>NaN</td>\n",
       "      <td>279754.0</td>\n",
       "      <td>-1.0</td>\n",
       "      <td>17344801</td>\n",
       "      <td>MULTIPOLYGON (((-79.440433878524 43.7633975096...</td>\n",
       "    </tr>\n",
       "    <tr>\n",
       "      <th>2</th>\n",
       "      <td>2</td>\n",
       "      <td>3</td>\n",
       "      <td>2457738.0</td>\n",
       "      <td>NaN</td>\n",
       "      <td>NaN</td>\n",
       "      <td>25993194.0</td>\n",
       "      <td>528.0</td>\n",
       "      <td>0.0</td>\n",
       "      <td>CITW</td>\n",
       "      <td>0.0</td>\n",
       "      <td>...</td>\n",
       "      <td>18</td>\n",
       "      <td>18</td>\n",
       "      <td>Willowdale</td>\n",
       "      <td>Willowdale (18)</td>\n",
       "      <td>0</td>\n",
       "      <td>NaN</td>\n",
       "      <td>279754.0</td>\n",
       "      <td>-1.0</td>\n",
       "      <td>17344817</td>\n",
       "      <td>MULTIPOLYGON (((-79.3944915063695 43.761572764...</td>\n",
       "    </tr>\n",
       "    <tr>\n",
       "      <th>3</th>\n",
       "      <td>3</td>\n",
       "      <td>4</td>\n",
       "      <td>2457737.0</td>\n",
       "      <td>NaN</td>\n",
       "      <td>NaN</td>\n",
       "      <td>25993193.0</td>\n",
       "      <td>528.0</td>\n",
       "      <td>0.0</td>\n",
       "      <td>CITW</td>\n",
       "      <td>0.0</td>\n",
       "      <td>...</td>\n",
       "      <td>11</td>\n",
       "      <td>11</td>\n",
       "      <td>University-Rosedale</td>\n",
       "      <td>University-Rosedale (11)</td>\n",
       "      <td>0</td>\n",
       "      <td>NaN</td>\n",
       "      <td>279754.0</td>\n",
       "      <td>-1.0</td>\n",
       "      <td>17344833</td>\n",
       "      <td>MULTIPOLYGON (((-79.3900395402556 43.690503924...</td>\n",
       "    </tr>\n",
       "    <tr>\n",
       "      <th>4</th>\n",
       "      <td>4</td>\n",
       "      <td>5</td>\n",
       "      <td>2457736.0</td>\n",
       "      <td>NaN</td>\n",
       "      <td>NaN</td>\n",
       "      <td>25993192.0</td>\n",
       "      <td>528.0</td>\n",
       "      <td>0.0</td>\n",
       "      <td>CITW</td>\n",
       "      <td>0.0</td>\n",
       "      <td>...</td>\n",
       "      <td>19</td>\n",
       "      <td>19</td>\n",
       "      <td>Beaches-East York</td>\n",
       "      <td>Beaches-East York (19)</td>\n",
       "      <td>0</td>\n",
       "      <td>NaN</td>\n",
       "      <td>279754.0</td>\n",
       "      <td>-1.0</td>\n",
       "      <td>17344849</td>\n",
       "      <td>MULTIPOLYGON (((-79.2986387013495 43.715147863...</td>\n",
       "    </tr>\n",
       "  </tbody>\n",
       "</table>\n",
       "<p>5 rows × 21 columns</p>\n",
       "</div>"
      ],
      "text/plain": [
       "   Unnamed: 0  _id    AREA_ID  DATE_EFFECTIVE  DATE_EXPIRY  AREA_ATTR_ID  \\\n",
       "0           0    1  2457740.0             NaN          NaN    25993196.0   \n",
       "1           1    2  2457739.0             NaN          NaN    25993195.0   \n",
       "2           2    3  2457738.0             NaN          NaN    25993194.0   \n",
       "3           3    4  2457737.0             NaN          NaN    25993193.0   \n",
       "4           4    5  2457736.0             NaN          NaN    25993192.0   \n",
       "\n",
       "   AREA_TYPE_ID  PARENT_AREA_ID AREA_TYPE  AREA_CLASS_ID  ...  \\\n",
       "0         528.0             0.0      CITW            0.0  ...   \n",
       "1         528.0             0.0      CITW            0.0  ...   \n",
       "2         528.0             0.0      CITW            0.0  ...   \n",
       "3         528.0             0.0      CITW            0.0  ...   \n",
       "4         528.0             0.0      CITW            0.0  ...   \n",
       "\n",
       "   AREA_SHORT_CODE  AREA_LONG_CODE                 AREA_NAME  \\\n",
       "0                7               7  Humber River-Black Creek   \n",
       "1                6               6               York Centre   \n",
       "2               18              18                Willowdale   \n",
       "3               11              11       University-Rosedale   \n",
       "4               19              19         Beaches-East York   \n",
       "\n",
       "                      AREA_DESC FEATURE_CODE  FEATURE_CODE_DESC  \\\n",
       "0  Humber River-Black Creek (7)            0                NaN   \n",
       "1               York Centre (6)            0                NaN   \n",
       "2               Willowdale (18)            0                NaN   \n",
       "3      University-Rosedale (11)            0                NaN   \n",
       "4        Beaches-East York (19)            0                NaN   \n",
       "\n",
       "   TRANS_ID_CREATE  TRANS_ID_EXPIRE  OBJECTID  \\\n",
       "0         279754.0             -1.0  17344785   \n",
       "1         279754.0             -1.0  17344801   \n",
       "2         279754.0             -1.0  17344817   \n",
       "3         279754.0             -1.0  17344833   \n",
       "4         279754.0             -1.0  17344849   \n",
       "\n",
       "                                            geometry  \n",
       "0  MULTIPOLYGON (((-79.4910534106931 43.763502152...  \n",
       "1  MULTIPOLYGON (((-79.440433878524 43.7633975096...  \n",
       "2  MULTIPOLYGON (((-79.3944915063695 43.761572764...  \n",
       "3  MULTIPOLYGON (((-79.3900395402556 43.690503924...  \n",
       "4  MULTIPOLYGON (((-79.2986387013495 43.715147863...  \n",
       "\n",
       "[5 rows x 21 columns]"
      ]
     },
     "execution_count": 7,
     "metadata": {},
     "output_type": "execute_result"
    }
   ],
   "source": [
    "# This block of code writes the City Wards Data geojson file into a csv file\n",
    "cwd.to_csv(\"data/cwd.csv\")\n",
    "\n",
    "# The next two lines reads the new csv file and displays its tabular data\n",
    "cwd = pd.read_csv(\"data/cwd.csv\")\n",
    "cwd.head()"
   ]
  }
 ],
 "metadata": {
  "kernelspec": {
   "display_name": "venv",
   "language": "python",
   "name": "python3"
  },
  "language_info": {
   "codemirror_mode": {
    "name": "ipython",
    "version": 3
   },
   "file_extension": ".py",
   "mimetype": "text/x-python",
   "name": "python",
   "nbconvert_exporter": "python",
   "pygments_lexer": "ipython3",
   "version": "3.12.1"
  }
 },
 "nbformat": 4,
 "nbformat_minor": 2
}
