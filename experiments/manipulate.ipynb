{
 "cells": [
  {
   "cell_type": "markdown",
   "metadata": {},
   "source": [
    "This notebook is dedicatied to showcasing a variety of spatial manipulation functions, which includes summaring column data and adding two columns to form another column."
   ]
  },
  {
   "cell_type": "code",
   "execution_count": 1,
   "metadata": {},
   "outputs": [
    {
     "name": "stderr",
     "output_type": "stream",
     "text": [
      "C:\\Users\\dante\\AppData\\Local\\Temp\\ipykernel_22520\\2412219844.py:2: DeprecationWarning: \n",
      "Pyarrow will become a required dependency of pandas in the next major release of pandas (pandas 3.0),\n",
      "(to allow more performant data types, such as the Arrow string type, and better interoperability with other libraries)\n",
      "but was not found to be installed on your system.\n",
      "If this would cause problems for you,\n",
      "please provide us feedback at https://github.com/pandas-dev/pandas/issues/54466\n",
      "        \n",
      "  import pandas as pd\n"
     ]
    }
   ],
   "source": [
    "# Importing the pandas and geopandas packages so that data and spatial data can be handled\n",
    "import pandas as pd\n",
    "import geopandas as gpd"
   ]
  },
  {
   "cell_type": "markdown",
   "metadata": {},
   "source": [
    "These next few blocks are for summarizing data columns for the Former Municipality Boundaries Data file."
   ]
  },
  {
   "cell_type": "code",
   "execution_count": 2,
   "metadata": {},
   "outputs": [
    {
     "data": {
      "text/html": [
       "<div>\n",
       "<style scoped>\n",
       "    .dataframe tbody tr th:only-of-type {\n",
       "        vertical-align: middle;\n",
       "    }\n",
       "\n",
       "    .dataframe tbody tr th {\n",
       "        vertical-align: top;\n",
       "    }\n",
       "\n",
       "    .dataframe thead th {\n",
       "        text-align: right;\n",
       "    }\n",
       "</style>\n",
       "<table border=\"1\" class=\"dataframe\">\n",
       "  <thead>\n",
       "    <tr style=\"text-align: right;\">\n",
       "      <th></th>\n",
       "      <th>_id</th>\n",
       "      <th>AREA_ID</th>\n",
       "      <th>DATE_EFFECTIVE</th>\n",
       "      <th>AREA_ATTR_ID</th>\n",
       "      <th>PARENT_AREA_ID</th>\n",
       "      <th>AREA_SHORT_CODE</th>\n",
       "      <th>AREA_LONG_CODE</th>\n",
       "      <th>AREA_NAME</th>\n",
       "      <th>AREA_DESC</th>\n",
       "      <th>OBJECTID</th>\n",
       "      <th>geometry</th>\n",
       "    </tr>\n",
       "  </thead>\n",
       "  <tbody>\n",
       "    <tr>\n",
       "      <th>0</th>\n",
       "      <td>1</td>\n",
       "      <td>49884.0</td>\n",
       "      <td></td>\n",
       "      <td>49884.0</td>\n",
       "      <td>49886.0</td>\n",
       "      <td>14</td>\n",
       "      <td>14</td>\n",
       "      <td>YORK</td>\n",
       "      <td>YORK</td>\n",
       "      <td>11093905</td>\n",
       "      <td>MULTIPOLYGON (((-79.49262 43.64744, -79.49249 ...</td>\n",
       "    </tr>\n",
       "    <tr>\n",
       "      <th>1</th>\n",
       "      <td>2</td>\n",
       "      <td>643704.0</td>\n",
       "      <td></td>\n",
       "      <td>643704.0</td>\n",
       "      <td>49886.0</td>\n",
       "      <td>08</td>\n",
       "      <td>08</td>\n",
       "      <td>NORTH YORK</td>\n",
       "      <td>NORTH YORK</td>\n",
       "      <td>11678465</td>\n",
       "      <td>MULTIPOLYGON (((-79.53584 43.70812, -79.53591 ...</td>\n",
       "    </tr>\n",
       "    <tr>\n",
       "      <th>2</th>\n",
       "      <td>3</td>\n",
       "      <td>49887.0</td>\n",
       "      <td></td>\n",
       "      <td>49887.0</td>\n",
       "      <td>49886.0</td>\n",
       "      <td>06</td>\n",
       "      <td>06</td>\n",
       "      <td>EAST YORK</td>\n",
       "      <td>EAST YORK</td>\n",
       "      <td>12266929</td>\n",
       "      <td>MULTIPOLYGON (((-79.28776 43.68978, -79.28909 ...</td>\n",
       "    </tr>\n",
       "    <tr>\n",
       "      <th>3</th>\n",
       "      <td>4</td>\n",
       "      <td>435733.0</td>\n",
       "      <td></td>\n",
       "      <td>435733.0</td>\n",
       "      <td>49886.0</td>\n",
       "      <td>01</td>\n",
       "      <td>01</td>\n",
       "      <td>SCARBOROUGH</td>\n",
       "      <td>SCARBOROUGH</td>\n",
       "      <td>12852625</td>\n",
       "      <td>MULTIPOLYGON (((-79.28776 43.68978, -79.28792 ...</td>\n",
       "    </tr>\n",
       "    <tr>\n",
       "      <th>4</th>\n",
       "      <td>5</td>\n",
       "      <td>1094349.0</td>\n",
       "      <td></td>\n",
       "      <td>1094349.0</td>\n",
       "      <td>49886.0</td>\n",
       "      <td>19</td>\n",
       "      <td>19</td>\n",
       "      <td>ETOBICOKE</td>\n",
       "      <td>ETOBICOKE</td>\n",
       "      <td>14035025</td>\n",
       "      <td>MULTIPOLYGON (((-79.48165 43.61872, -79.48180 ...</td>\n",
       "    </tr>\n",
       "    <tr>\n",
       "      <th>5</th>\n",
       "      <td>6</td>\n",
       "      <td>760645.0</td>\n",
       "      <td></td>\n",
       "      <td>760645.0</td>\n",
       "      <td>49886.0</td>\n",
       "      <td>04</td>\n",
       "      <td>04</td>\n",
       "      <td>TORONTO</td>\n",
       "      <td>TORONTO</td>\n",
       "      <td>14035041</td>\n",
       "      <td>MULTIPOLYGON (((-79.39652 43.62232, -79.39685 ...</td>\n",
       "    </tr>\n",
       "  </tbody>\n",
       "</table>\n",
       "</div>"
      ],
      "text/plain": [
       "   _id    AREA_ID DATE_EFFECTIVE  AREA_ATTR_ID  PARENT_AREA_ID  \\\n",
       "0    1    49884.0                      49884.0         49886.0   \n",
       "1    2   643704.0                     643704.0         49886.0   \n",
       "2    3    49887.0                      49887.0         49886.0   \n",
       "3    4   435733.0                     435733.0         49886.0   \n",
       "4    5  1094349.0                    1094349.0         49886.0   \n",
       "5    6   760645.0                     760645.0         49886.0   \n",
       "\n",
       "  AREA_SHORT_CODE AREA_LONG_CODE    AREA_NAME    AREA_DESC  OBJECTID  \\\n",
       "0              14             14         YORK         YORK  11093905   \n",
       "1              08             08   NORTH YORK   NORTH YORK  11678465   \n",
       "2              06             06    EAST YORK    EAST YORK  12266929   \n",
       "3              01             01  SCARBOROUGH  SCARBOROUGH  12852625   \n",
       "4              19             19    ETOBICOKE    ETOBICOKE  14035025   \n",
       "5              04             04      TORONTO      TORONTO  14035041   \n",
       "\n",
       "                                            geometry  \n",
       "0  MULTIPOLYGON (((-79.49262 43.64744, -79.49249 ...  \n",
       "1  MULTIPOLYGON (((-79.53584 43.70812, -79.53591 ...  \n",
       "2  MULTIPOLYGON (((-79.28776 43.68978, -79.28909 ...  \n",
       "3  MULTIPOLYGON (((-79.28776 43.68978, -79.28792 ...  \n",
       "4  MULTIPOLYGON (((-79.48165 43.61872, -79.48180 ...  \n",
       "5  MULTIPOLYGON (((-79.39652 43.62232, -79.39685 ...  "
      ]
     },
     "execution_count": 2,
     "metadata": {},
     "output_type": "execute_result"
    }
   ],
   "source": [
    "# Reading in the Former Municipality Boundaries Data file\n",
    "fmbd = gpd.read_file('data/Former Municipality Boundaries Data.geojson')\n",
    "fmbd"
   ]
  },
  {
   "cell_type": "code",
   "execution_count": 3,
   "metadata": {},
   "outputs": [
    {
     "data": {
      "text/plain": [
       "'19'"
      ]
     },
     "execution_count": 3,
     "metadata": {},
     "output_type": "execute_result"
    }
   ],
   "source": [
    "# Finding the maximum value from the area short code column\n",
    "fmbd[\"AREA_SHORT_CODE\"].max()"
   ]
  },
  {
   "cell_type": "code",
   "execution_count": 4,
   "metadata": {},
   "outputs": [
    {
     "data": {
      "text/plain": [
       "505700.3333333333"
      ]
     },
     "execution_count": 4,
     "metadata": {},
     "output_type": "execute_result"
    }
   ],
   "source": [
    "# Finding the average value from the area ID column\n",
    "fmbd[\"AREA_ID\"].mean()"
   ]
  },
  {
   "cell_type": "markdown",
   "metadata": {},
   "source": [
    "The next few blocks show the reprojection of the Former Municipality Boundaries Data file."
   ]
  },
  {
   "cell_type": "code",
   "execution_count": 5,
   "metadata": {},
   "outputs": [
    {
     "data": {
      "text/plain": [
       "<Geographic 2D CRS: EPSG:4326>\n",
       "Name: WGS 84\n",
       "Axis Info [ellipsoidal]:\n",
       "- Lat[north]: Geodetic latitude (degree)\n",
       "- Lon[east]: Geodetic longitude (degree)\n",
       "Area of Use:\n",
       "- name: World.\n",
       "- bounds: (-180.0, -90.0, 180.0, 90.0)\n",
       "Datum: World Geodetic System 1984 ensemble\n",
       "- Ellipsoid: WGS 84\n",
       "- Prime Meridian: Greenwich"
      ]
     },
     "execution_count": 5,
     "metadata": {},
     "output_type": "execute_result"
    }
   ],
   "source": [
    "# Displaying the Former Municipality Boundaries Data file's current CRS\n",
    "fmbd.crs\n"
   ]
  },
  {
   "cell_type": "code",
   "execution_count": 6,
   "metadata": {},
   "outputs": [
    {
     "data": {
      "text/plain": [
       "<Axes: >"
      ]
     },
     "execution_count": 6,
     "metadata": {},
     "output_type": "execute_result"
    },
    {
     "data": {
      "image/png": "[encoded data removed]",
      "text/plain": [
       "<Figure size 640x480 with 1 Axes>"
      ]
     },
     "metadata": {},
     "output_type": "display_data"
    }
   ],
   "source": [
    "# Plotting the Former Municipality Boundaries Data file as a map\n",
    "fmbd.plot()"
   ]
  },
  {
   "cell_type": "markdown",
   "metadata": {},
   "source": [
    "Reprojection of the Former Municipality Boundaries Data file with the WGS 84 / UTM zone 33N projection."
   ]
  },
  {
   "cell_type": "code",
   "execution_count": 7,
   "metadata": {},
   "outputs": [
    {
     "data": {
      "text/plain": [
       "<Axes: >"
      ]
     },
     "execution_count": 7,
     "metadata": {},
     "output_type": "execute_result"
    },
    {
     "data": {
      "image/png": "[encoded data removed]",
      "text/plain": [
       "<Figure size 640x480 with 1 Axes>"
      ]
     },
     "metadata": {},
     "output_type": "display_data"
    }
   ],
   "source": [
    "# Reprojecting Former Municipality Boundaries Data file to the WGS 84 / UTM zone 33N projection \n",
    "fmbd_new = fmbd.to_crs(\"EPSG:32633\")\n",
    "# Plotting new projected fmbd file\n",
    "fmbd_new.plot()"
   ]
  },
  {
   "cell_type": "markdown",
   "metadata": {},
   "source": [
    "Reprojection of the Former Municipality Boundaries Data file with the NAD 1983 Albers contiguous USA projection."
   ]
  },
  {
   "cell_type": "code",
   "execution_count": 8,
   "metadata": {},
   "outputs": [
    {
     "data": {
      "text/plain": [
       "<Axes: >"
      ]
     },
     "execution_count": 8,
     "metadata": {},
     "output_type": "execute_result"
    },
    {
     "data": {
      "image/png": "[encoded data removed]",
      "text/plain": [
       "<Figure size 640x480 with 1 Axes>"
      ]
     },
     "metadata": {},
     "output_type": "display_data"
    }
   ],
   "source": [
    "# Reprojecting Former Municipality Boundaries Data file to the NAD 1983 Albers contiguous USA projection \n",
    "fmbd_new2 = fmbd_new.to_crs(\"ESRI:102003\")\n",
    "# Plotting new projected fmbd file\n",
    "fmbd_new2.plot()"
   ]
  },
  {
   "cell_type": "markdown",
   "metadata": {},
   "source": [
    "This next block combines two columns from the Former Municipality Boundaries Data file to create a new column."
   ]
  },
  {
   "cell_type": "code",
   "execution_count": 9,
   "metadata": {},
   "outputs": [
    {
     "data": {
      "text/html": [
       "<div>\n",
       "<style scoped>\n",
       "    .dataframe tbody tr th:only-of-type {\n",
       "        vertical-align: middle;\n",
       "    }\n",
       "\n",
       "    .dataframe tbody tr th {\n",
       "        vertical-align: top;\n",
       "    }\n",
       "\n",
       "    .dataframe thead th {\n",
       "        text-align: right;\n",
       "    }\n",
       "</style>\n",
       "<table border=\"1\" class=\"dataframe\">\n",
       "  <thead>\n",
       "    <tr style=\"text-align: right;\">\n",
       "      <th></th>\n",
       "      <th>_id</th>\n",
       "      <th>AREA_ID</th>\n",
       "      <th>DATE_EFFECTIVE</th>\n",
       "      <th>AREA_ATTR_ID</th>\n",
       "      <th>PARENT_AREA_ID</th>\n",
       "      <th>AREA_SHORT_CODE</th>\n",
       "      <th>AREA_LONG_CODE</th>\n",
       "      <th>AREA_NAME</th>\n",
       "      <th>AREA_DESC</th>\n",
       "      <th>OBJECTID</th>\n",
       "      <th>geometry</th>\n",
       "      <th>AREA_NEW_CODE</th>\n",
       "    </tr>\n",
       "  </thead>\n",
       "  <tbody>\n",
       "    <tr>\n",
       "      <th>0</th>\n",
       "      <td>1</td>\n",
       "      <td>49884.0</td>\n",
       "      <td></td>\n",
       "      <td>49884.0</td>\n",
       "      <td>49886.0</td>\n",
       "      <td>14</td>\n",
       "      <td>14</td>\n",
       "      <td>YORK</td>\n",
       "      <td>YORK</td>\n",
       "      <td>11093905</td>\n",
       "      <td>MULTIPOLYGON (((-79.49262 43.64744, -79.49249 ...</td>\n",
       "      <td>1414</td>\n",
       "    </tr>\n",
       "    <tr>\n",
       "      <th>1</th>\n",
       "      <td>2</td>\n",
       "      <td>643704.0</td>\n",
       "      <td></td>\n",
       "      <td>643704.0</td>\n",
       "      <td>49886.0</td>\n",
       "      <td>08</td>\n",
       "      <td>08</td>\n",
       "      <td>NORTH YORK</td>\n",
       "      <td>NORTH YORK</td>\n",
       "      <td>11678465</td>\n",
       "      <td>MULTIPOLYGON (((-79.53584 43.70812, -79.53591 ...</td>\n",
       "      <td>0808</td>\n",
       "    </tr>\n",
       "    <tr>\n",
       "      <th>2</th>\n",
       "      <td>3</td>\n",
       "      <td>49887.0</td>\n",
       "      <td></td>\n",
       "      <td>49887.0</td>\n",
       "      <td>49886.0</td>\n",
       "      <td>06</td>\n",
       "      <td>06</td>\n",
       "      <td>EAST YORK</td>\n",
       "      <td>EAST YORK</td>\n",
       "      <td>12266929</td>\n",
       "      <td>MULTIPOLYGON (((-79.28776 43.68978, -79.28909 ...</td>\n",
       "      <td>0606</td>\n",
       "    </tr>\n",
       "    <tr>\n",
       "      <th>3</th>\n",
       "      <td>4</td>\n",
       "      <td>435733.0</td>\n",
       "      <td></td>\n",
       "      <td>435733.0</td>\n",
       "      <td>49886.0</td>\n",
       "      <td>01</td>\n",
       "      <td>01</td>\n",
       "      <td>SCARBOROUGH</td>\n",
       "      <td>SCARBOROUGH</td>\n",
       "      <td>12852625</td>\n",
       "      <td>MULTIPOLYGON (((-79.28776 43.68978, -79.28792 ...</td>\n",
       "      <td>0101</td>\n",
       "    </tr>\n",
       "    <tr>\n",
       "      <th>4</th>\n",
       "      <td>5</td>\n",
       "      <td>1094349.0</td>\n",
       "      <td></td>\n",
       "      <td>1094349.0</td>\n",
       "      <td>49886.0</td>\n",
       "      <td>19</td>\n",
       "      <td>19</td>\n",
       "      <td>ETOBICOKE</td>\n",
       "      <td>ETOBICOKE</td>\n",
       "      <td>14035025</td>\n",
       "      <td>MULTIPOLYGON (((-79.48165 43.61872, -79.48180 ...</td>\n",
       "      <td>1919</td>\n",
       "    </tr>\n",
       "    <tr>\n",
       "      <th>5</th>\n",
       "      <td>6</td>\n",
       "      <td>760645.0</td>\n",
       "      <td></td>\n",
       "      <td>760645.0</td>\n",
       "      <td>49886.0</td>\n",
       "      <td>04</td>\n",
       "      <td>04</td>\n",
       "      <td>TORONTO</td>\n",
       "      <td>TORONTO</td>\n",
       "      <td>14035041</td>\n",
       "      <td>MULTIPOLYGON (((-79.39652 43.62232, -79.39685 ...</td>\n",
       "      <td>0404</td>\n",
       "    </tr>\n",
       "  </tbody>\n",
       "</table>\n",
       "</div>"
      ],
      "text/plain": [
       "   _id    AREA_ID DATE_EFFECTIVE  AREA_ATTR_ID  PARENT_AREA_ID  \\\n",
       "0    1    49884.0                      49884.0         49886.0   \n",
       "1    2   643704.0                     643704.0         49886.0   \n",
       "2    3    49887.0                      49887.0         49886.0   \n",
       "3    4   435733.0                     435733.0         49886.0   \n",
       "4    5  1094349.0                    1094349.0         49886.0   \n",
       "5    6   760645.0                     760645.0         49886.0   \n",
       "\n",
       "  AREA_SHORT_CODE AREA_LONG_CODE    AREA_NAME    AREA_DESC  OBJECTID  \\\n",
       "0              14             14         YORK         YORK  11093905   \n",
       "1              08             08   NORTH YORK   NORTH YORK  11678465   \n",
       "2              06             06    EAST YORK    EAST YORK  12266929   \n",
       "3              01             01  SCARBOROUGH  SCARBOROUGH  12852625   \n",
       "4              19             19    ETOBICOKE    ETOBICOKE  14035025   \n",
       "5              04             04      TORONTO      TORONTO  14035041   \n",
       "\n",
       "                                            geometry AREA_NEW_CODE  \n",
       "0  MULTIPOLYGON (((-79.49262 43.64744, -79.49249 ...          1414  \n",
       "1  MULTIPOLYGON (((-79.53584 43.70812, -79.53591 ...          0808  \n",
       "2  MULTIPOLYGON (((-79.28776 43.68978, -79.28909 ...          0606  \n",
       "3  MULTIPOLYGON (((-79.28776 43.68978, -79.28792 ...          0101  \n",
       "4  MULTIPOLYGON (((-79.48165 43.61872, -79.48180 ...          1919  \n",
       "5  MULTIPOLYGON (((-79.39652 43.62232, -79.39685 ...          0404  "
      ]
     },
     "execution_count": 9,
     "metadata": {},
     "output_type": "execute_result"
    }
   ],
   "source": [
    "# Addding the AREA_SHORT_CODE column and the AREA_LONG_CODE column together to create the AREA_NEW_CODE column\n",
    "fmbd[\"AREA_NEW_CODE\"] = (\n",
    "    fmbd[\"AREA_SHORT_CODE\"] + fmbd[\"AREA_LONG_CODE\"]\n",
    ")\n",
    "# Reading the new table of the same fmbd file\n",
    "fmbd"
   ]
  },
  {
   "cell_type": "markdown",
   "metadata": {},
   "source": [
    "The next code block creates buffers for the shelters geojson file and plots a map of these buffers."
   ]
  },
  {
   "cell_type": "code",
   "execution_count": 10,
   "metadata": {},
   "outputs": [
    {
     "data": {
      "text/plain": [
       "<Axes: >"
      ]
     },
     "execution_count": 10,
     "metadata": {},
     "output_type": "execute_result"
    },
    {
     "data": {
      "image/png": "[encoded data removed]",
      "text/plain": [
       "<Figure size 640x480 with 1 Axes>"
      ]
     },
     "metadata": {},
     "output_type": "display_data"
    }
   ],
   "source": [
    "# The shelters file is read and is reprojected to a CRS that can be plotted on\n",
    "shelters = gpd.read_file(\"data/shelters.geojson\")\n",
    "shelterscrs = shelters.to_crs(\"ESRI:102002\")\n",
    "# The next two lines creates red buffers and plots them on a map, with the shelters being coloured blue\n",
    "base = shelterscrs.buffer(1000).plot(color=\"red\")\n",
    "shelterscrs.plot(ax=base,color=\"blue\")"
   ]
  },
  {
   "cell_type": "markdown",
   "metadata": {},
   "source": [
    "This next code block joins the waste and shelters file together."
   ]
  },
  {
   "cell_type": "code",
   "execution_count": 13,
   "metadata": {},
   "outputs": [
    {
     "data": {
      "text/html": [
       "<div>\n",
       "<style scoped>\n",
       "    .dataframe tbody tr th:only-of-type {\n",
       "        vertical-align: middle;\n",
       "    }\n",
       "\n",
       "    .dataframe tbody tr th {\n",
       "        vertical-align: top;\n",
       "    }\n",
       "\n",
       "    .dataframe thead th {\n",
       "        text-align: right;\n",
       "    }\n",
       "</style>\n",
       "<table border=\"1\" class=\"dataframe\">\n",
       "  <thead>\n",
       "    <tr style=\"text-align: right;\">\n",
       "      <th></th>\n",
       "      <th>WARD_left</th>\n",
       "      <th>Address</th>\n",
       "      <th>Name</th>\n",
       "      <th>geometry</th>\n",
       "      <th>index_right</th>\n",
       "      <th>ADDRESS_PO</th>\n",
       "      <th>ADDRESS_FU</th>\n",
       "      <th>POSTAL_COD</th>\n",
       "      <th>MUNICIPALI</th>\n",
       "      <th>CITY</th>\n",
       "      <th>...</th>\n",
       "      <th>NEIGHBOURH</th>\n",
       "      <th>NEIGHBOU_1</th>\n",
       "      <th>COMMUNITY_</th>\n",
       "      <th>CONFIDENTI</th>\n",
       "      <th>MOTEL</th>\n",
       "      <th>CAPACITY</th>\n",
       "      <th>NAME</th>\n",
       "      <th>TYPE</th>\n",
       "      <th>TYPE2</th>\n",
       "      <th>CITY_OP</th>\n",
       "    </tr>\n",
       "  </thead>\n",
       "  <tbody>\n",
       "    <tr>\n",
       "      <th>0</th>\n",
       "      <td>York West (8)</td>\n",
       "      <td>35 Vanley Cres, M3J2B7</td>\n",
       "      <td>Dufferin Transfer Station Resource Recovery Ce...</td>\n",
       "      <td>POINT (1346817.177 600996.717)</td>\n",
       "      <td>27</td>\n",
       "      <td>14601973</td>\n",
       "      <td>25 Canterbury Pl</td>\n",
       "      <td>M2N0E3</td>\n",
       "      <td>NORTH YORK</td>\n",
       "      <td>Toronto</td>\n",
       "      <td>...</td>\n",
       "      <td>37</td>\n",
       "      <td>Willowdale West</td>\n",
       "      <td>NORTH YORK COMMUNITY COUNCIL</td>\n",
       "      <td>N</td>\n",
       "      <td>None</td>\n",
       "      <td>32</td>\n",
       "      <td>Eva's Place - Satellite</td>\n",
       "      <td>Single</td>\n",
       "      <td>Youth</td>\n",
       "      <td>None</td>\n",
       "    </tr>\n",
       "    <tr>\n",
       "      <th>1</th>\n",
       "      <td>Don Valley East (34)</td>\n",
       "      <td>188 Bermondsey Rd, M4A1Y1</td>\n",
       "      <td>Bermondsey Transfer Station</td>\n",
       "      <td>POINT (1360101.877 599764.164)</td>\n",
       "      <td>23</td>\n",
       "      <td>8236601</td>\n",
       "      <td>2714 Danforth Ave</td>\n",
       "      <td>M4C1L7</td>\n",
       "      <td>former TORONTO</td>\n",
       "      <td>Toronto</td>\n",
       "      <td>...</td>\n",
       "      <td>62</td>\n",
       "      <td>East End-Danforth</td>\n",
       "      <td>TORONTO AND EAST YORK COMMUNITY COUNCIL</td>\n",
       "      <td>N</td>\n",
       "      <td>None</td>\n",
       "      <td>70</td>\n",
       "      <td>Dixon Hall - Heyworth House</td>\n",
       "      <td>Single</td>\n",
       "      <td>Mixed Adult</td>\n",
       "      <td>None</td>\n",
       "    </tr>\n",
       "    <tr>\n",
       "      <th>2</th>\n",
       "      <td>Etobicoke North (2)</td>\n",
       "      <td>120 Disco Rd, M9W1M4</td>\n",
       "      <td>Disco Transfer Station</td>\n",
       "      <td>POINT (1338017.558 591584.352)</td>\n",
       "      <td>12</td>\n",
       "      <td>8133841</td>\n",
       "      <td>6 Warrendale Crt</td>\n",
       "      <td>M9V1P9</td>\n",
       "      <td>ETOBICOKE</td>\n",
       "      <td>Toronto</td>\n",
       "      <td>...</td>\n",
       "      <td>2</td>\n",
       "      <td>Mount Olive-Silverstone-Jamestown</td>\n",
       "      <td>ETOBICOKE YORK COMMUNITY COUNCIL</td>\n",
       "      <td>N</td>\n",
       "      <td>None</td>\n",
       "      <td>50</td>\n",
       "      <td>Youth Without Shelter</td>\n",
       "      <td>Single</td>\n",
       "      <td>Youth</td>\n",
       "      <td>None</td>\n",
       "    </tr>\n",
       "    <tr>\n",
       "      <th>3</th>\n",
       "      <td>York South-Weston (12)</td>\n",
       "      <td>50 Ingram Dr, M6M2L6</td>\n",
       "      <td>Ingram Transfer Station</td>\n",
       "      <td>POINT (1348496.986 594263.605)</td>\n",
       "      <td>39</td>\n",
       "      <td>7195894</td>\n",
       "      <td>422 Gilbert Ave</td>\n",
       "      <td>M6E4X3</td>\n",
       "      <td>YORK</td>\n",
       "      <td>Toronto</td>\n",
       "      <td>...</td>\n",
       "      <td>109</td>\n",
       "      <td>Caledonia-Fairbanks</td>\n",
       "      <td>ETOBICOKE YORK COMMUNITY COUNCIL</td>\n",
       "      <td>N</td>\n",
       "      <td>None</td>\n",
       "      <td>35</td>\n",
       "      <td>Horizons for Youth</td>\n",
       "      <td>Single</td>\n",
       "      <td>Youth</td>\n",
       "      <td>None</td>\n",
       "    </tr>\n",
       "    <tr>\n",
       "      <th>4</th>\n",
       "      <td>Willowdale (24)</td>\n",
       "      <td>3350 Victoria Park Ave, M2H3K5</td>\n",
       "      <td>Victoria Park Transfer Station</td>\n",
       "      <td>POINT (1356279.068 608296.071)</td>\n",
       "      <td>52</td>\n",
       "      <td>14198104</td>\n",
       "      <td>1651 Sheppard Ave E</td>\n",
       "      <td>M2J5H1</td>\n",
       "      <td>NORTH YORK</td>\n",
       "      <td>Toronto</td>\n",
       "      <td>...</td>\n",
       "      <td>53</td>\n",
       "      <td>Henry Farm</td>\n",
       "      <td>NORTH YORK COMMUNITY COUNCIL</td>\n",
       "      <td>N</td>\n",
       "      <td>None</td>\n",
       "      <td>28</td>\n",
       "      <td>Seaton House/Downsview Dells</td>\n",
       "      <td>Single</td>\n",
       "      <td>Single Men</td>\n",
       "      <td>Y</td>\n",
       "    </tr>\n",
       "    <tr>\n",
       "      <th>5</th>\n",
       "      <td>Scarborough-Rouge River (41)</td>\n",
       "      <td>1 Transfer Pl, M1S5H8</td>\n",
       "      <td>Scarborough Transfer Station</td>\n",
       "      <td>POINT (1364009.119 609521.439)</td>\n",
       "      <td>17</td>\n",
       "      <td>13968838</td>\n",
       "      <td>1229 Ellesmere Rd</td>\n",
       "      <td>M1P4V8</td>\n",
       "      <td>SCARBOROUGH</td>\n",
       "      <td>Toronto</td>\n",
       "      <td>...</td>\n",
       "      <td>127</td>\n",
       "      <td>Bendale</td>\n",
       "      <td>SCARBOROUGH COMMUNITY COUNCIL</td>\n",
       "      <td>N</td>\n",
       "      <td>None</td>\n",
       "      <td>160</td>\n",
       "      <td>Birkdale Residence</td>\n",
       "      <td>Family</td>\n",
       "      <td>Family</td>\n",
       "      <td>Y</td>\n",
       "    </tr>\n",
       "    <tr>\n",
       "      <th>6</th>\n",
       "      <td>Toronto-Danforth (30)</td>\n",
       "      <td>400 Commissioners St, M4M3K2</td>\n",
       "      <td>Commissioners St. Transfer Station</td>\n",
       "      <td>POINT (1360422.485 591622.102)</td>\n",
       "      <td>10</td>\n",
       "      <td>855691</td>\n",
       "      <td>875 Queen St E</td>\n",
       "      <td>M4M1J2</td>\n",
       "      <td>former TORONTO</td>\n",
       "      <td>Toronto</td>\n",
       "      <td>...</td>\n",
       "      <td>70</td>\n",
       "      <td>South Riverdale</td>\n",
       "      <td>TORONTO AND EAST YORK COMMUNITY COUNCIL</td>\n",
       "      <td>N</td>\n",
       "      <td>None</td>\n",
       "      <td>120</td>\n",
       "      <td>Woodgreen Red Door Queen</td>\n",
       "      <td>Family</td>\n",
       "      <td>Family</td>\n",
       "      <td>None</td>\n",
       "    </tr>\n",
       "  </tbody>\n",
       "</table>\n",
       "<p>7 rows × 23 columns</p>\n",
       "</div>"
      ],
      "text/plain": [
       "                      WARD_left                         Address  \\\n",
       "0                 York West (8)          35 Vanley Cres, M3J2B7   \n",
       "1          Don Valley East (34)       188 Bermondsey Rd, M4A1Y1   \n",
       "2           Etobicoke North (2)            120 Disco Rd, M9W1M4   \n",
       "3        York South-Weston (12)            50 Ingram Dr, M6M2L6   \n",
       "4               Willowdale (24)  3350 Victoria Park Ave, M2H3K5   \n",
       "5  Scarborough-Rouge River (41)           1 Transfer Pl, M1S5H8   \n",
       "6         Toronto-Danforth (30)    400 Commissioners St, M4M3K2   \n",
       "\n",
       "                                                Name  \\\n",
       "0  Dufferin Transfer Station Resource Recovery Ce...   \n",
       "1                        Bermondsey Transfer Station   \n",
       "2                             Disco Transfer Station   \n",
       "3                            Ingram Transfer Station   \n",
       "4                     Victoria Park Transfer Station   \n",
       "5                       Scarborough Transfer Station   \n",
       "6                 Commissioners St. Transfer Station   \n",
       "\n",
       "                         geometry  index_right  ADDRESS_PO  \\\n",
       "0  POINT (1346817.177 600996.717)           27    14601973   \n",
       "1  POINT (1360101.877 599764.164)           23     8236601   \n",
       "2  POINT (1338017.558 591584.352)           12     8133841   \n",
       "3  POINT (1348496.986 594263.605)           39     7195894   \n",
       "4  POINT (1356279.068 608296.071)           52    14198104   \n",
       "5  POINT (1364009.119 609521.439)           17    13968838   \n",
       "6  POINT (1360422.485 591622.102)           10      855691   \n",
       "\n",
       "            ADDRESS_FU POSTAL_COD      MUNICIPALI     CITY  ...  NEIGHBOURH  \\\n",
       "0     25 Canterbury Pl     M2N0E3      NORTH YORK  Toronto  ...          37   \n",
       "1    2714 Danforth Ave     M4C1L7  former TORONTO  Toronto  ...          62   \n",
       "2     6 Warrendale Crt     M9V1P9       ETOBICOKE  Toronto  ...           2   \n",
       "3      422 Gilbert Ave     M6E4X3            YORK  Toronto  ...         109   \n",
       "4  1651 Sheppard Ave E     M2J5H1      NORTH YORK  Toronto  ...          53   \n",
       "5    1229 Ellesmere Rd     M1P4V8     SCARBOROUGH  Toronto  ...         127   \n",
       "6       875 Queen St E     M4M1J2  former TORONTO  Toronto  ...          70   \n",
       "\n",
       "                          NEIGHBOU_1                               COMMUNITY_  \\\n",
       "0                    Willowdale West             NORTH YORK COMMUNITY COUNCIL   \n",
       "1                  East End-Danforth  TORONTO AND EAST YORK COMMUNITY COUNCIL   \n",
       "2  Mount Olive-Silverstone-Jamestown         ETOBICOKE YORK COMMUNITY COUNCIL   \n",
       "3                Caledonia-Fairbanks         ETOBICOKE YORK COMMUNITY COUNCIL   \n",
       "4                         Henry Farm             NORTH YORK COMMUNITY COUNCIL   \n",
       "5                            Bendale            SCARBOROUGH COMMUNITY COUNCIL   \n",
       "6                    South Riverdale  TORONTO AND EAST YORK COMMUNITY COUNCIL   \n",
       "\n",
       "  CONFIDENTI MOTEL CAPACITY                          NAME    TYPE  \\\n",
       "0          N  None       32       Eva's Place - Satellite  Single   \n",
       "1          N  None       70   Dixon Hall - Heyworth House  Single   \n",
       "2          N  None       50         Youth Without Shelter  Single   \n",
       "3          N  None       35            Horizons for Youth  Single   \n",
       "4          N  None       28  Seaton House/Downsview Dells  Single   \n",
       "5          N  None      160            Birkdale Residence  Family   \n",
       "6          N  None      120      Woodgreen Red Door Queen  Family   \n",
       "\n",
       "         TYPE2 CITY_OP  \n",
       "0        Youth    None  \n",
       "1  Mixed Adult    None  \n",
       "2        Youth    None  \n",
       "3        Youth    None  \n",
       "4   Single Men       Y  \n",
       "5       Family       Y  \n",
       "6       Family    None  \n",
       "\n",
       "[7 rows x 23 columns]"
      ]
     },
     "execution_count": 13,
     "metadata": {},
     "output_type": "execute_result"
    }
   ],
   "source": [
    "# The waste file is read and is reprojected to a CRS that can be plotted on\n",
    "waste = gpd.read_file(\"data/waste.geojson\")\n",
    "wastecrs = waste.to_crs(\"ESRI:102002\")\n",
    "# Each waste centre is joined with its closes shelter, and the tabular data is displayed\n",
    "\n",
    "waste_with_shelters"
   ]
  }
 ],
 "metadata": {
  "kernelspec": {
   "display_name": "venv",
   "language": "python",
   "name": "python3"
  },
  "language_info": {
   "codemirror_mode": {
    "name": "ipython",
    "version": 3
   },
   "file_extension": ".py",
   "mimetype": "text/x-python",
   "name": "python",
   "nbconvert_exporter": "python",
   "pygments_lexer": "ipython3",
   "version": "3.12.1"
  }
 },
 "nbformat": 4,
 "nbformat_minor": 2
}
