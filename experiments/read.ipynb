{
 "cells": [
  {
   "cell_type": "markdown",
   "metadata": {},
   "source": [
    "### This notebook is for showing how to read in spatial data files."
   ]
  },
  {
   "cell_type": "markdown",
   "metadata": {},
   "source": [
    "Libraries"
   ]
  },
  {
   "cell_type": "code",
   "execution_count": 1,
   "metadata": {},
   "outputs": [
    {
     "name": "stderr",
     "output_type": "stream",
     "text": [
      "C:\\Users\\dante\\AppData\\Local\\Temp\\ipykernel_37536\\4052833461.py:2: DeprecationWarning: \n",
      "Pyarrow will become a required dependency of pandas in the next major release of pandas (pandas 3.0),\n",
      "(to allow more performant data types, such as the Arrow string type, and better interoperability with other libraries)\n",
      "but was not found to be installed on your system.\n",
      "If this would cause problems for you,\n",
      "please provide us feedback at https://github.com/pandas-dev/pandas/issues/54466\n",
      "        \n",
      "  import pandas as pd\n"
     ]
    }
   ],
   "source": [
    "# Importing the pandas and geopandas packages so that data and spatial data can be handled\n",
    "import pandas as pd\n",
    "import geopandas as gpd"
   ]
  },
  {
   "cell_type": "markdown",
   "metadata": {},
   "source": [
    "Reading in a GeoJson file and displaying its table"
   ]
  },
  {
   "cell_type": "code",
   "execution_count": 2,
   "metadata": {},
   "outputs": [
    {
     "data": {
      "text/html": [
       "<div>\n",
       "<style scoped>\n",
       "    .dataframe tbody tr th:only-of-type {\n",
       "        vertical-align: middle;\n",
       "    }\n",
       "\n",
       "    .dataframe tbody tr th {\n",
       "        vertical-align: top;\n",
       "    }\n",
       "\n",
       "    .dataframe thead th {\n",
       "        text-align: right;\n",
       "    }\n",
       "</style>\n",
       "<table border=\"1\" class=\"dataframe\">\n",
       "  <thead>\n",
       "    <tr style=\"text-align: right;\">\n",
       "      <th></th>\n",
       "      <th>_id</th>\n",
       "      <th>AREA_ID</th>\n",
       "      <th>DATE_EFFECTIVE</th>\n",
       "      <th>AREA_ATTR_ID</th>\n",
       "      <th>PARENT_AREA_ID</th>\n",
       "      <th>AREA_SHORT_CODE</th>\n",
       "      <th>AREA_LONG_CODE</th>\n",
       "      <th>AREA_NAME</th>\n",
       "      <th>AREA_DESC</th>\n",
       "      <th>OBJECTID</th>\n",
       "      <th>geometry</th>\n",
       "    </tr>\n",
       "  </thead>\n",
       "  <tbody>\n",
       "    <tr>\n",
       "      <th>0</th>\n",
       "      <td>1</td>\n",
       "      <td>49884.0</td>\n",
       "      <td></td>\n",
       "      <td>49884.0</td>\n",
       "      <td>49886.0</td>\n",
       "      <td>14</td>\n",
       "      <td>14</td>\n",
       "      <td>YORK</td>\n",
       "      <td>YORK</td>\n",
       "      <td>11093905</td>\n",
       "      <td>MULTIPOLYGON (((-79.49262 43.64744, -79.49249 ...</td>\n",
       "    </tr>\n",
       "    <tr>\n",
       "      <th>1</th>\n",
       "      <td>2</td>\n",
       "      <td>643704.0</td>\n",
       "      <td></td>\n",
       "      <td>643704.0</td>\n",
       "      <td>49886.0</td>\n",
       "      <td>08</td>\n",
       "      <td>08</td>\n",
       "      <td>NORTH YORK</td>\n",
       "      <td>NORTH YORK</td>\n",
       "      <td>11678465</td>\n",
       "      <td>MULTIPOLYGON (((-79.53584 43.70812, -79.53591 ...</td>\n",
       "    </tr>\n",
       "    <tr>\n",
       "      <th>2</th>\n",
       "      <td>3</td>\n",
       "      <td>49887.0</td>\n",
       "      <td></td>\n",
       "      <td>49887.0</td>\n",
       "      <td>49886.0</td>\n",
       "      <td>06</td>\n",
       "      <td>06</td>\n",
       "      <td>EAST YORK</td>\n",
       "      <td>EAST YORK</td>\n",
       "      <td>12266929</td>\n",
       "      <td>MULTIPOLYGON (((-79.28776 43.68978, -79.28909 ...</td>\n",
       "    </tr>\n",
       "    <tr>\n",
       "      <th>3</th>\n",
       "      <td>4</td>\n",
       "      <td>435733.0</td>\n",
       "      <td></td>\n",
       "      <td>435733.0</td>\n",
       "      <td>49886.0</td>\n",
       "      <td>01</td>\n",
       "      <td>01</td>\n",
       "      <td>SCARBOROUGH</td>\n",
       "      <td>SCARBOROUGH</td>\n",
       "      <td>12852625</td>\n",
       "      <td>MULTIPOLYGON (((-79.28776 43.68978, -79.28792 ...</td>\n",
       "    </tr>\n",
       "    <tr>\n",
       "      <th>4</th>\n",
       "      <td>5</td>\n",
       "      <td>1094349.0</td>\n",
       "      <td></td>\n",
       "      <td>1094349.0</td>\n",
       "      <td>49886.0</td>\n",
       "      <td>19</td>\n",
       "      <td>19</td>\n",
       "      <td>ETOBICOKE</td>\n",
       "      <td>ETOBICOKE</td>\n",
       "      <td>14035025</td>\n",
       "      <td>MULTIPOLYGON (((-79.48165 43.61872, -79.48180 ...</td>\n",
       "    </tr>\n",
       "    <tr>\n",
       "      <th>5</th>\n",
       "      <td>6</td>\n",
       "      <td>760645.0</td>\n",
       "      <td></td>\n",
       "      <td>760645.0</td>\n",
       "      <td>49886.0</td>\n",
       "      <td>04</td>\n",
       "      <td>04</td>\n",
       "      <td>TORONTO</td>\n",
       "      <td>TORONTO</td>\n",
       "      <td>14035041</td>\n",
       "      <td>MULTIPOLYGON (((-79.39652 43.62232, -79.39685 ...</td>\n",
       "    </tr>\n",
       "  </tbody>\n",
       "</table>\n",
       "</div>"
      ],
      "text/plain": [
       "   _id    AREA_ID DATE_EFFECTIVE  AREA_ATTR_ID  PARENT_AREA_ID  \\\n",
       "0    1    49884.0                      49884.0         49886.0   \n",
       "1    2   643704.0                     643704.0         49886.0   \n",
       "2    3    49887.0                      49887.0         49886.0   \n",
       "3    4   435733.0                     435733.0         49886.0   \n",
       "4    5  1094349.0                    1094349.0         49886.0   \n",
       "5    6   760645.0                     760645.0         49886.0   \n",
       "\n",
       "  AREA_SHORT_CODE AREA_LONG_CODE    AREA_NAME    AREA_DESC  OBJECTID  \\\n",
       "0              14             14         YORK         YORK  11093905   \n",
       "1              08             08   NORTH YORK   NORTH YORK  11678465   \n",
       "2              06             06    EAST YORK    EAST YORK  12266929   \n",
       "3              01             01  SCARBOROUGH  SCARBOROUGH  12852625   \n",
       "4              19             19    ETOBICOKE    ETOBICOKE  14035025   \n",
       "5              04             04      TORONTO      TORONTO  14035041   \n",
       "\n",
       "                                            geometry  \n",
       "0  MULTIPOLYGON (((-79.49262 43.64744, -79.49249 ...  \n",
       "1  MULTIPOLYGON (((-79.53584 43.70812, -79.53591 ...  \n",
       "2  MULTIPOLYGON (((-79.28776 43.68978, -79.28909 ...  \n",
       "3  MULTIPOLYGON (((-79.28776 43.68978, -79.28792 ...  \n",
       "4  MULTIPOLYGON (((-79.48165 43.61872, -79.48180 ...  \n",
       "5  MULTIPOLYGON (((-79.39652 43.62232, -79.39685 ...  "
      ]
     },
     "execution_count": 2,
     "metadata": {},
     "output_type": "execute_result"
    }
   ],
   "source": [
    "# Reading in the Former Municipality Boundaries Data geojson file\n",
    "fmbd = gpd.read_file('data/Former Municipality Boundaries Data.geojson')\n",
    "fmbd"
   ]
  },
  {
   "cell_type": "markdown",
   "metadata": {},
   "source": [
    "Next will be displaying the neighbourhood name field alone using different types of code."
   ]
  },
  {
   "cell_type": "code",
   "execution_count": 3,
   "metadata": {},
   "outputs": [
    {
     "name": "stdout",
     "output_type": "stream",
     "text": [
      "0           YORK\n",
      "1     NORTH YORK\n",
      "2      EAST YORK\n",
      "3    SCARBOROUGH\n",
      "4      ETOBICOKE\n",
      "5        TORONTO\n",
      "Name: AREA_NAME, dtype: object\n"
     ]
    }
   ],
   "source": [
    "# Displaying the neighbourhood name column with a basic print function\n",
    "print(fmbd['AREA_NAME'])"
   ]
  },
  {
   "cell_type": "code",
   "execution_count": 4,
   "metadata": {},
   "outputs": [
    {
     "name": "stdout",
     "output_type": "stream",
     "text": [
      "     AREA_NAME\n",
      "0         YORK\n",
      "1   NORTH YORK\n",
      "2    EAST YORK\n",
      "3  SCARBOROUGH\n",
      "4    ETOBICOKE\n",
      "5      TORONTO\n"
     ]
    }
   ],
   "source": [
    "# Displaying the neighbourhood name column with the field name on top of the output column and taking out object type\n",
    "print(fmbd[['AREA_NAME']])"
   ]
  },
  {
   "cell_type": "code",
   "execution_count": 5,
   "metadata": {},
   "outputs": [
    {
     "data": {
      "text/plain": [
       "0           YORK\n",
       "1     NORTH YORK\n",
       "2      EAST YORK\n",
       "3    SCARBOROUGH\n",
       "4      ETOBICOKE\n",
       "Name: AREA_NAME, dtype: object"
      ]
     },
     "execution_count": 5,
     "metadata": {},
     "output_type": "execute_result"
    }
   ],
   "source": [
    "# Using the head function to disply the neighbourhood name column\n",
    "names = fmbd[\"AREA_NAME\"]\n",
    "names.head()"
   ]
  }
 ],
 "metadata": {
  "kernelspec": {
   "display_name": "venv",
   "language": "python",
   "name": "python3"
  },
  "language_info": {
   "codemirror_mode": {
    "name": "ipython",
    "version": 3
   },
   "file_extension": ".py",
   "mimetype": "text/x-python",
   "name": "python",
   "nbconvert_exporter": "python",
   "pygments_lexer": "ipython3",
   "version": "3.12.1"
  }
 },
 "nbformat": 4,
 "nbformat_minor": 2
}
